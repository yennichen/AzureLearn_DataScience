{
 "cells": [
  {
   "cell_type": "code",
   "execution_count": null,
   "metadata": {},
   "outputs": [],
   "source": [
    "# Create an Azure ML service workspace with Python\n",
    "from azureml.core import Workspace\n",
    "\n",
    "ws = Workspace.create(\n",
    "            name='learn-workspace-py',\n",
    "            subscription_id='{azure-subscription-id}', \n",
    "            resource_group='rgAMLSLearnworkspace',\n",
    "            create_resource_group=False,\n",
    "            location='eastus2'\n",
    "\n",
    "print('Done')\n",
    ")"
   ]
  },
  {
   "cell_type": "code",
   "execution_count": null,
   "metadata": {},
   "outputs": [],
   "source": [
    "# This returns a JSON block with all the created details.\n",
    "ws.get_details()"
   ]
  }
 ],
 "metadata": {
  "kernelspec": {
   "display_name": "Python 3",
   "language": "python",
   "name": "python3"
  },
  "language_info": {
   "codemirror_mode": {
    "name": "ipython",
    "version": 3
   },
   "file_extension": ".py",
   "mimetype": "text/x-python",
   "name": "python",
   "nbconvert_exporter": "python",
   "pygments_lexer": "ipython3",
   "version": "3.7.4"
  }
 },
 "nbformat": 4,
 "nbformat_minor": 2
}
