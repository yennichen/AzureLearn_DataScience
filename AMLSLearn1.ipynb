{
  "cells": [
    {
      "metadata": {
        "collapsed": true
      },
      "cell_type": "markdown",
      "source": "# 使用Python建立Azure工作區(workspace)"
    },
    {
      "metadata": {
        "trusted": true
      },
      "cell_type": "code",
      "source": "import azureml.core\nprint(azureml.core.VERSION)",
      "execution_count": 1,
      "outputs": [
        {
          "output_type": "stream",
          "text": "1.0.57\n",
          "name": "stdout"
        }
      ]
    },
    {
      "metadata": {
        "trusted": true
      },
      "cell_type": "code",
      "source": "from azureml.core import Workspace\n\nws = Workspace.create(name='AMLSLearnworkspace', \n                      subscription_id='485f9fa6-0221-4dbf-8074-a202426a29bf', \n                      resource_group='rgAMLSLearnworkspace',\n                      create_resource_group=True,\n                      location='East Asia'\n                     )\nprint('Workspace created')",
      "execution_count": 6,
      "outputs": [
        {
          "output_type": "stream",
          "text": "UserWarning: The resource group doesn't exist or was not provided. AzureML SDK is creating a resource group=rgAMLSLearnworkspace in location=eastasia using subscription=485f9fa6-0221-4dbf-8074-a202426a29bf.\n",
          "name": "stderr"
        },
        {
          "output_type": "stream",
          "text": "Deploying StorageAccount with name amlslearstoraged7a73c0b5.\nDeploying AppInsights with name amlslearinsightseac5ae02.\nDeployed AppInsights with name amlslearinsightseac5ae02. Took 10.23 seconds.\nDeploying KeyVault with name amlslearkeyvault81ad34b7.\nDeployed KeyVault with name amlslearkeyvault81ad34b7. Took 23.33 seconds.\nDeployed StorageAccount with name amlslearstoraged7a73c0b5. Took 37.0 seconds.\nDeploying Workspace with name AMLSLearnworkspace.\nDeployed Workspace with name AMLSLearnworkspace. Took 156.83 seconds.\nWorkspace created\n",
          "name": "stdout"
        }
      ]
    },
    {
      "metadata": {
        "trusted": true
      },
      "cell_type": "code",
      "source": "#檢視工作區詳細資料，例如相關聯的儲存體、容器登錄和金鑰保存庫\nws.get_details()",
      "execution_count": 7,
      "outputs": [
        {
          "output_type": "execute_result",
          "execution_count": 7,
          "data": {
            "text/plain": "{'id': '/subscriptions/485f9fa6-0221-4dbf-8074-a202426a29bf/resourceGroups/rgAMLSLearnworkspace/providers/Microsoft.MachineLearningServices/workspaces/AMLSLearnworkspace',\n 'name': 'AMLSLearnworkspace',\n 'location': 'eastasia',\n 'type': 'Microsoft.MachineLearningServices/workspaces',\n 'workspaceid': '820e7f6b-8069-4668-9237-d33166860b25',\n 'description': '',\n 'friendlyName': 'AMLSLearnworkspace',\n 'creationTime': '2019-10-24T12:53:33.3323278+00:00',\n 'keyVault': '/subscriptions/485f9fa6-0221-4dbf-8074-a202426a29bf/resourcegroups/rgamlslearnworkspace/providers/microsoft.keyvault/vaults/amlslearkeyvault81ad34b7',\n 'applicationInsights': '/subscriptions/485f9fa6-0221-4dbf-8074-a202426a29bf/resourcegroups/rgamlslearnworkspace/providers/microsoft.insights/components/amlslearinsightseac5ae02',\n 'identityPrincipalId': '15148eb1-966f-40e8-ac8b-8b9feec8c49a',\n 'identityTenantId': '17c834f5-3b7b-449c-94fe-0b055a7801ec',\n 'identityType': 'SystemAssigned',\n 'storageAccount': '/subscriptions/485f9fa6-0221-4dbf-8074-a202426a29bf/resourcegroups/rgamlslearnworkspace/providers/microsoft.storage/storageaccounts/amlslearstoraged7a73c0b5'}"
          },
          "metadata": {}
        }
      ]
    },
    {
      "metadata": {
        "trusted": true
      },
      "cell_type": "code",
      "source": "#撰寫設定檔: 工作區詳細資料可以儲存到目前目錄的設定 JSON 檔。 write_config() 應用程式開發介面 (API) 呼叫會在目前的目錄中建立設定檔\nws.write_config()\nprint('Configuration saved')",
      "execution_count": 8,
      "outputs": [
        {
          "output_type": "stream",
          "text": "Configuration saved\n",
          "name": "stdout"
        }
      ]
    },
    {
      "metadata": {
        "trusted": true
      },
      "cell_type": "code",
      "source": "#使用workspace\n\n#AMLS 中的工作是在 Experiment 內完成。 程式碼會先從 azureml.core 模組匯入 Experiment 類別。\nfrom azureml.core import Experiment\n\n#Create an experiment\nexp = Experiment(workspace=ws, name='trial_exp')\n\n#變數 'exp' 具有許多可供使用方法和屬性。 'run = exp.start_logging()' 一行會建立稱為 run 的新物件，可用來參考實驗以執行記錄工作。\nrun = exp.start_logging()\n\n#陳述式 'run.log('trial', 30)' 會將一行寫入記錄，其中包含 'trial' 文字，後面接著數字 30\nrun.log('trial',30)\n\n#'run.log_list' 陳述式示範您可以將 Python 清單傳遞至此方法，並將清單寫入至記錄。\nrun.log_list('my_list', [1, 1, 2, 3, 5, 8, 13, 21, 34, 55])\n\n#關閉記錄物件，類似於關閉檔案。\nrun.complete()\n\nprint('Finished logging')",
      "execution_count": 9,
      "outputs": [
        {
          "output_type": "stream",
          "text": "Finished logging\n",
          "name": "stdout"
        }
      ]
    },
    {
      "metadata": {
        "trusted": true
      },
      "cell_type": "code",
      "source": "#檢視記錄的結果\nprint(run.get_portal_url()) #連結會引導您前往 Azure 入口網站中的記錄值。",
      "execution_count": 10,
      "outputs": [
        {
          "output_type": "stream",
          "text": "https://mlworkspace.azure.ai/portal/subscriptions/485f9fa6-0221-4dbf-8074-a202426a29bf/resourceGroups/rgAMLSLearnworkspace/providers/Microsoft.MachineLearningServices/workspaces/AMLSLearnworkspace/experiments/trial_exp/runs/f128fcda-d315-46d0-aa71-c59f73da2c77\n",
          "name": "stdout"
        }
      ]
    },
    {
      "metadata": {
        "trusted": true
      },
      "cell_type": "code",
      "source": "#清除資源\nws.delete(delete_dependent_resources=True)",
      "execution_count": null,
      "outputs": []
    },
    {
      "metadata": {
        "trusted": true
      },
      "cell_type": "code",
      "source": "",
      "execution_count": null,
      "outputs": []
    }
  ],
  "metadata": {
    "kernelspec": {
      "name": "python36",
      "display_name": "Python 3.6",
      "language": "python"
    },
    "language_info": {
      "mimetype": "text/x-python",
      "nbconvert_exporter": "python",
      "name": "python",
      "pygments_lexer": "ipython3",
      "version": "3.6.6",
      "file_extension": ".py",
      "codemirror_mode": {
        "version": 3,
        "name": "ipython"
      }
    }
  },
  "nbformat": 4,
  "nbformat_minor": 2
}