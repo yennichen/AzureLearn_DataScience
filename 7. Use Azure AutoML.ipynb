{
  "cells": [
    {
      "metadata": {
        "trusted": true
      },
      "cell_type": "code",
      "source": "# Create a workspce if it's not exited\nfrom azureml.core import Workspace, Experiment, Run\n\nws = Workspace.create(name='AMLSLearnworkspace', \n                      subscription_id='485f9fa6-0221-4dbf-8074-a202426a29bf', \n                      resource_group='rgAMLSLearnworkspace',\n                      create_resource_group=True,\n                      location='East Asia'\n                     )\nprint('Workspace created')\n\n# Call a workspace if it's existed\n#ws = Workspace.get(name='{name}',\n#                   subscription_id='{azure-subscription-id}',\n#                   resource_group='{resource-group-name}'\n#                  )\n\n#print('Done')\n",
      "execution_count": 1,
      "outputs": [
        {
          "output_type": "stream",
          "text": "Performing interactive authentication. Please follow the instructions on the terminal.\nTo sign in, use a web browser to open the page https://microsoft.com/devicelogin and enter the code FHPTH4Y98 to authenticate.\nInteractive authentication successfully completed.\n",
          "name": "stdout"
        },
        {
          "output_type": "stream",
          "text": "UserWarning: The resource group doesn't exist or was not provided. AzureML SDK is creating a resource group=rgAMLSLearnworkspace in location=eastasia using subscription=485f9fa6-0221-4dbf-8074-a202426a29bf.\n",
          "name": "stderr"
        },
        {
          "output_type": "stream",
          "text": "Deploying KeyVault with name amlslearkeyvault59d10bc8.\nDeploying StorageAccount with name amlslearstoragec5b27b52d.\nDeploying AppInsights with name amlslearinsights1a904b7f.\nDeployed AppInsights with name amlslearinsights1a904b7f. Took 11.74 seconds.\nDeployed KeyVault with name amlslearkeyvault59d10bc8. Took 22.51 seconds.\nDeployed StorageAccount with name amlslearstoragec5b27b52d. Took 30.54 seconds.\nDeploying Workspace with name AMLSLearnworkspace.\nDeployed Workspace with name AMLSLearnworkspace. Took 37.53 seconds.\nWorkspace created\n",
          "name": "stdout"
        }
      ]
    },
    {
      "metadata": {
        "trusted": true
      },
      "cell_type": "code",
      "source": "# Load the diabetes dataset, a well-known built-in small dataset that comes with scikit-learn.\nfrom sklearn.datasets import load_diabetes\nfrom sklearn.model_selection import train_test_split\n\nX, y = load_diabetes(return_X_y = True)\n\nX_train, X_test, y_train, y_test = train_test_split(X, y, test_size = 0.2, random_state = 0)\n\nprint('Done')",
      "execution_count": 2,
      "outputs": [
        {
          "output_type": "stream",
          "text": "Done\n",
          "name": "stdout"
        }
      ]
    },
    {
      "metadata": {
        "trusted": true
      },
      "cell_type": "code",
      "source": "experiment = Experiment(workspace = ws, name = \"my-third-experiment\")\n\nprint('Done')",
      "execution_count": 3,
      "outputs": [
        {
          "output_type": "stream",
          "text": "Done\n",
          "name": "stdout"
        }
      ]
    },
    {
      "metadata": {
        "trusted": true
      },
      "cell_type": "code",
      "source": "# Set up learninggoal for AutoML\n\nfrom azureml.train.automl import AutoMLConfig\nimport logging\n\nautoml_config = AutoMLConfig(task = 'regression',\n                  iteration_timeout_minutes = 10,\n                  iterations = 3,\n                  primary_metric = 'spearman_correlation',\n                  n_cross_validations = 5,\n                  debug_log = 'automl.log',\n                  verbosity = logging.INFO,\n                  X = X_train, \n                  y = y_train)\n\nprint('Done')",
      "execution_count": 4,
      "outputs": [
        {
          "output_type": "stream",
          "text": "Done\n",
          "name": "stdout"
        }
      ]
    },
    {
      "metadata": {
        "trusted": true
      },
      "cell_type": "code",
      "source": "# Start AutoML process\nlocal_run = experiment.submit(automl_config, show_output = True)",
      "execution_count": 5,
      "outputs": [
        {
          "output_type": "stream",
          "text": "Running on local machine\nParent Run ID: AutoML_ca4ba14a-7ab2-4612-8b8b-e2209c78a92e\nCurrent status: DatasetCrossValidationSplit. Generating CV splits.\nCurrent status: ModelSelection. Beginning model selection.\n\n****************************************************************************************************\nITERATION: The iteration being evaluated.\nPIPELINE: A summary description of the pipeline being evaluated.\nDURATION: Time taken for the current iteration.\nMETRIC: The result of computing score on the fitted pipeline.\nBEST: The best observed score thus far.\n****************************************************************************************************\n\n ITERATION   PIPELINE                                       DURATION      METRIC      BEST\n         0   StandardScalerWrapper RandomForest             0:01:20       0.6978    0.6978\n         1   MinMaxScaler RandomForest                      0:00:52       0.6807    0.6978\n         2   StandardScalerWrapper ExtremeRandomTrees       0:00:47       0.6740    0.6978\n",
          "name": "stdout"
        }
      ]
    },
    {
      "metadata": {
        "trusted": true
      },
      "cell_type": "code",
      "source": "# Show the results from each model\nfrom azureml.widgets import RunDetails\nRunDetails(local_run).show()",
      "execution_count": 6,
      "outputs": [
        {
          "output_type": "display_data",
          "data": {
            "application/vnd.jupyter.widget-view+json": {
              "model_id": "6f58976efddf4de28c02dbae96dd1858",
              "version_minor": 0,
              "version_major": 2
            },
            "text/plain": "_AutoMLWidget(widget_settings={'childWidgetDisplay': 'popup', 'send_telemetry': False, 'log_level': 'INFO', 's…"
          },
          "metadata": {}
        }
      ]
    },
    {
      "metadata": {
        "trusted": true
      },
      "cell_type": "code",
      "source": "# Pick the best model with the highest correlation\nbest_run, fitted_model = local_run.get_output()",
      "execution_count": 7,
      "outputs": []
    },
    {
      "metadata": {
        "trusted": true
      },
      "cell_type": "code",
      "source": "# Evaluate the best model\ny_pred_train = fitted_model.predict(X_train)\ny_residual_train = y_train - y_pred_train\ny_pred_test = fitted_model.predict(X_test)\ny_residual_test = y_test - y_pred_test",
      "execution_count": 8,
      "outputs": []
    },
    {
      "metadata": {
        "trusted": true
      },
      "cell_type": "code",
      "source": "print(y_residual_test)",
      "execution_count": 9,
      "outputs": [
        {
          "output_type": "stream",
          "text": "[ 1.03332717e+02 -2.03024847e+01 -5.30951821e+01 -5.38521775e+01\n  3.59862278e+01  3.53218191e+01  8.16326108e+01  1.03381571e+01\n  1.69414974e+01 -1.09398779e+02  8.93676372e+01 -1.86245227e+00\n  1.46897858e+00 -2.28272125e+01  1.46850451e+01 -5.12853590e+01\n -5.29226180e+01 -1.02626341e+01  3.25492419e+00 -6.30705079e+01\n -2.52255293e+00  1.34855589e+02 -6.40730789e+01  1.59717062e+01\n -1.30825174e+02 -5.56124652e+01 -1.42180856e+01  8.92875705e+00\n  2.43817763e+01  2.48060947e+01  5.33771850e+01  8.54439034e+01\n  5.52793025e+01  6.07163538e+01  5.86030747e+01  1.01503297e+02\n  2.46734523e-02  1.08468834e+02 -5.28711335e+01 -1.66798363e+01\n -1.79909079e+01  1.83960746e+01 -4.55620353e+01  3.66920247e+01\n  5.63817599e+01  4.85142626e+00  9.43828779e+01  6.11071096e+01\n -3.83062602e+01  4.46090938e+01  1.59244615e+01  4.95291997e+01\n -2.45310247e+01 -5.12288986e+01 -3.23428712e+01 -1.39724122e+01\n -7.17529383e+01 -3.19126501e+01  8.75862442e+01  5.45860043e+01\n -1.64600052e+02 -2.79833006e+01 -2.59696986e+01 -1.03570087e+01\n -1.05604963e+02  1.77714814e+02 -4.51172041e+01  1.04082011e+02\n -6.32660619e+01 -4.02911392e+01  9.67442025e+00  2.24583133e+01\n -3.36094057e+01 -3.72010144e+01 -5.79328981e+01 -2.16218561e+01\n -4.47514919e+01 -4.04853533e+01 -4.33202997e+01  7.75282692e+01\n  2.09374944e+01 -6.75779473e+01 -3.68393245e+01  6.76228760e+01\n -1.35085602e+01 -5.39654954e+01 -1.73102790e+01 -6.74175448e+01\n -5.22386679e+01]\n",
          "name": "stdout"
        }
      ]
    },
    {
      "metadata": {
        "trusted": true
      },
      "cell_type": "code",
      "source": "",
      "execution_count": null,
      "outputs": []
    }
  ],
  "metadata": {
    "kernelspec": {
      "name": "python36",
      "display_name": "Python 3.6",
      "language": "python"
    },
    "language_info": {
      "mimetype": "text/x-python",
      "nbconvert_exporter": "python",
      "name": "python",
      "pygments_lexer": "ipython3",
      "version": "3.6.6",
      "file_extension": ".py",
      "codemirror_mode": {
        "version": 3,
        "name": "ipython"
      }
    }
  },
  "nbformat": 4,
  "nbformat_minor": 2
}