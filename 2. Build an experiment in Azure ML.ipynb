{
 "cells": [
  {
   "cell_type": "code",
   "execution_count": null,
   "metadata": {},
   "outputs": [],
   "source": [
    "from azureml.core import Workspace, Experiment, Run\n",
    "\n",
    "#subscription_id='{azure-subscription-id}'\n",
    "ws = Workspace.create(\n",
    "            name = 'AMLWorkspace',\n",
    "            subscription_id='998013e8-bda2-49b6-b42b-2e63c4025dbb', \n",
    "            resource_group='rgAMLSLearnworkspace',\n",
    "            create_resource_group=True,\n",
    "            location='eastus2'\n",
    ")"
   ]
  },
  {
   "cell_type": "code",
   "execution_count": null,
   "metadata": {},
   "outputs": [],
   "source": [
    "# build an experiment in the workspace we just created\n",
    "experiment = Experiment(workspace = ws, name = \"My_first_experiment\")\n",
    "\n",
    "# Create a run\n",
    "run = experiment.start_logging()\n",
    "run.log('trial', 1)\n",
    "run.complete()"
   ]
  },
  {
   "cell_type": "code",
   "execution_count": null,
   "metadata": {},
   "outputs": [],
   "source": [
    "# Get the details of the run\n",
    "from azureml.widgets import RunDetails\n",
    "\n",
    "RunDetails(run).show()"
   ]
  },
  {
   "cell_type": "code",
   "execution_count": null,
   "metadata": {},
   "outputs": [],
   "source": [
    "# Or to get the details via Azure portal\n",
    "print(run.get_portal_url())"
   ]
  },
  {
   "cell_type": "code",
   "execution_count": null,
   "metadata": {},
   "outputs": [],
   "source": []
  }
 ],
 "metadata": {
  "kernelspec": {
   "display_name": "Python 3",
   "language": "python",
   "name": "python3"
  },
  "language_info": {
   "codemirror_mode": {
    "name": "ipython",
    "version": 3
   },
   "file_extension": ".py",
   "mimetype": "text/x-python",
   "name": "python",
   "nbconvert_exporter": "python",
   "pygments_lexer": "ipython3",
   "version": "3.7.4"
  }
 },
 "nbformat": 4,
 "nbformat_minor": 2
}
