{
 "cells": [
  {
   "cell_type": "markdown",
   "metadata": {},
   "source": [
    "# Why Apache Spark?\n",
    "\n",
    "Identify the problems Apache Spark&trade; and Azure Databricks&reg; are well suited to solve. This includes the types of tasks well-suited to Apache Spark’s Unified Analytics Engine, as well as examples of tasks not well-suited for Apache Spark."
   ]
  },
  {
   "cell_type": "markdown",
   "metadata": {},
   "source": [
    "-sandbox\n",
    "### Getting Started\n",
    "\n",
    "Run the following cell to configure our \"classroom.\"\n",
    "\n",
    "<img alt=\"Side Note\" title=\"Side Note\" style=\"vertical-align: text-bottom; position: relative; height:1.75em; top:0.05em; transform:rotate(15deg)\" src=\"https://files.training.databricks.com/static/images/icon-note.webp\"/> The command `%run` runs another notebook (in this case `Classroom-Setup`), which prepares the data for this lesson."
   ]
  },
  {
   "cell_type": "code",
   "execution_count": 1,
   "metadata": {},
   "outputs": [
    {
     "name": "stderr",
     "output_type": "stream",
     "text": [
      "ERROR:root:File `'./Includes/Classroom-Setup.py'` not found.\n"
     ]
    }
   ],
   "source": [
    "%run \"./Includes/Classroom-Setup\""
   ]
  },
  {
   "cell_type": "markdown",
   "metadata": {},
   "source": [
    "Run the following cell to mimic a streaming data source"
   ]
  },
  {
   "cell_type": "code",
   "execution_count": 5,
   "metadata": {},
   "outputs": [],
   "source": [
    "%run \"./Includes/Stream-Generator\""
   ]
  },
  {
   "cell_type": "markdown",
   "metadata": {},
   "source": [
    "## Lesson\n",
    "\n",
    "### Use cases for Apache Spark\n",
    "* Read and process huge files and data sets\n",
    "* Query, explore, and visualize data sets\n",
    "* Join disparate data sets found in data lakes\n",
    "* Train and evaluate machine learning models\n",
    "* Process live streams of data\n",
    "* Perform analysis on large graph data sets and social networks\n",
    "\n",
    "<img alt=\"Side Note\" title=\"Side Note\" style=\"vertical-align: text-bottom; position: relative; height:1.75em; top:0.05em; transform:rotate(15deg)\" src=\"https://files.training.databricks.com/static/images/icon-note.webp\"/> Focus on learning the types of problems solved by Spark; the code examples are explained either later in this course or future courses."
   ]
  },
  {
   "cell_type": "markdown",
   "metadata": {},
   "source": [
    "-sandbox\n",
    "<div>\n",
    "  <div>**Apache Spark is used to...**</div>\n",
    "  <div><h3 style=\"margin-top:0; margin-bottom:0.75em\">Read and process huge files and data sets</h3></div>\n",
    "</div>\n",
    "Spark provides a query engine capable of processing data in very, very large data files.  Some of the largest Spark jobs in the world run on Petabytes of data."
   ]
  },
  {
   "cell_type": "markdown",
   "metadata": {},
   "source": [
    "The files in `dbfs:/mnt/training/asa/flights/all-by-year/` are stored in Azure Storage and made easily accessible using the Databricks Filesystem (dbfs).\n",
    "\n",
    "The `%fs ls` command lists the contents of the bucket.  There are 22 comma-separated-values (CSV) files containing flight data for 1987-2008.  Spark can readily handle petabytes of data given a sufficiently large cluster."
   ]
  },
  {
   "cell_type": "code",
   "execution_count": 9,
   "metadata": {},
   "outputs": [],
   "source": [
    "%fs ls dbfs:/mnt/training/asa/flights/all-by-year/"
   ]
  },
  {
   "cell_type": "markdown",
   "metadata": {},
   "source": [
    "The `CREATE TABLE` statement below registers the CSV file as a SQL Table.  The CSV file can then be queried directly using SQL.\n",
    "\n",
    "In order to allow this example to run quickly on a small cluster, we'll use the file `small.csv` instead."
   ]
  },
  {
   "cell_type": "code",
   "execution_count": 11,
   "metadata": {},
   "outputs": [],
   "source": [
    "%sql\n",
    "\n",
    "CREATE DATABASE IF NOT EXISTS Databricks;\n",
    "USE Databricks;\n",
    "\n",
    "CREATE TABLE IF NOT EXISTS AirlineFlight\n",
    "USING CSV\n",
    "OPTIONS (\n",
    "  header=\"true\",\n",
    "  delimiter=\",\",\n",
    "  inferSchema=\"true\",\n",
    "  path=\"dbfs:/mnt/training/asa/flights/small.csv\"\n",
    ");\n",
    "\n",
    "CACHE TABLE AirlineFlight;\n",
    "\n",
    "SELECT * FROM AirlineFlight;"
   ]
  },
  {
   "cell_type": "markdown",
   "metadata": {},
   "source": [
    "-sandbox\n",
    "<div>\n",
    "  <div>**Apache Spark is used to...**</div>\n",
    "  <div><h3 style=\"margin-top:0; margin-bottom:0.75em\">Query, explore, and visualize data sets</h3></div>\n",
    "</div>\n",
    "\n",
    "Spark can perform complex queries to extract insights from large files and visualize the results."
   ]
  },
  {
   "cell_type": "markdown",
   "metadata": {},
   "source": [
    "The example below creates a table from a CSV file listing flight delays by airplane, counts the number of delays per model of airplane, and then graphs it."
   ]
  },
  {
   "cell_type": "code",
   "execution_count": 14,
   "metadata": {},
   "outputs": [],
   "source": [
    "%sql\n",
    "\n",
    "CREATE TABLE IF NOT EXISTS AirlinePlane\n",
    "USING csv\n",
    "OPTIONS (\n",
    "  header = \"true\",\n",
    "  delimiter = \",\",\n",
    "  inferSchema = \"false\",\n",
    "  path = \"dbfs:/mnt/training/asa/planes/plane-data.csv\"\n",
    ");\n",
    "\n",
    "CACHE TABLE AirlinePlane;\n",
    "\n",
    "SELECT Model, count(*) AS Delays FROM AirlinePlane WHERE Model IS NOT NULL GROUP BY Model ORDER BY Delays DESC LIMIT 10;"
   ]
  },
  {
   "cell_type": "markdown",
   "metadata": {},
   "source": [
    "-sandbox\n",
    "<div>\n",
    "  <div>**Apache Spark is used to...**</div>\n",
    "  <div><h3 style=\"margin-top:0; margin-bottom:0.75em\">Join disparate data sets found in data lakes</h3></div>\n",
    "</div>\n",
    "\n",
    "Companies frequently have thousands of large data files gathered from various teams and departments, typically using a diverse variety of formats, including CSV, JSON and XML.\n",
    "\n",
    "These are called Data Lakes. Data Lakes differ from Data Warehouses in that they don't require someone to spend weeks or months preparing a unified enterprise schema and then populating it.\n",
    "\n",
    "Frequently an analyst wishes to run simple queries across various data files, without taking the time required to construct a fully-fledged Data Warehouse.\n",
    "\n",
    "Spark excels in this type of workload by enabling users to simultaneously query files from many different storage locations, and then formats and join them together using Spark SQL.\n",
    "\n",
    "Spark can later load the data into a Data Warehouse if desired."
   ]
  },
  {
   "cell_type": "code",
   "execution_count": 16,
   "metadata": {},
   "outputs": [],
   "source": [
    "%sql\n",
    "\n",
    "SELECT p.manufacturer AS Manufacturer,\n",
    "       avg(depDelay) AS Delay\n",
    "FROM AirlinePlane p\n",
    "JOIN AirlineFlight f ON p.tailnum = f.tailnum\n",
    "WHERE p.manufacturer IS NOT null\n",
    "GROUP BY p.manufacturer\n",
    "ORDER BY Delay DESC\n",
    "LIMIT 10"
   ]
  },
  {
   "cell_type": "markdown",
   "metadata": {},
   "source": [
    "Not only does Spark bring together files from many different locations, it also brings in disparate data sources and file types such as:\n",
    "* JDBC Data Sources like SQL Server, Azure SQL Database, MySQL, PostgreSQL, Oracle,  etc.\n",
    "* Parquet files\n",
    "* CSV files\n",
    "* ORC files\n",
    "* JSON files\n",
    "* HDFS file systems\n",
    "* Apache Kafka\n",
    "* And with a little extra work, Web Services Endpoints, TCP-IP sockets, and just about anything else you can imagine!"
   ]
  },
  {
   "cell_type": "markdown",
   "metadata": {},
   "source": [
    "-sandbox\n",
    "<div>\n",
    "  <div>**Apache Spark is used to...**</div>\n",
    "  <div><h3 style=\"margin-top:0; margin-bottom:0.75em\">Train and evaluate machine learning models</h3></div>\n",
    "</div>\n",
    "\n",
    "Spark performs predictive analytics using machine learning algorithms.\n",
    "\n",
    "The example below trains a linear regression model using past flight data to predict delays based on the hour of the day."
   ]
  },
  {
   "cell_type": "code",
   "execution_count": 19,
   "metadata": {},
   "outputs": [],
   "source": [
    "from pyspark.sql.functions import col, floor, translate, round\n",
    "from pyspark.ml import Pipeline\n",
    "from pyspark.ml.feature import VectorAssembler, OneHotEncoder\n",
    "from pyspark.ml.regression import LinearRegression\n",
    "\n",
    "inputDF = (spark.read.table(\"AirlineFlight\")\n",
    "  .withColumn(\"HourOfDay\", floor(col(\"CRSDepTime\")/100))\n",
    "  .withColumn(\"DepDelay\", translate(col(\"DepDelay\"), \"NA\", \"0\").cast(\"integer\")))\n",
    "\n",
    "(trainingDF, testDF) = inputDF.randomSplit([0.80, 0.20], seed=999)\n",
    "\n",
    "pipeline = Pipeline(stages=[\n",
    "    OneHotEncoder(inputCol=\"HourOfDay\", outputCol=\"HourVector\"),\n",
    "    VectorAssembler(inputCols=[\"HourVector\"], outputCol=\"Features\"),\n",
    "    LinearRegression(featuresCol=\"Features\", labelCol=\"DepDelay\", predictionCol=\"DepDelayPredicted\", regParam=0.0)\n",
    "  ])\n",
    "\n",
    "model = pipeline.fit(trainingDF)\n",
    "resultDF = model.transform(testDF)\n",
    "\n",
    "displayDF = resultDF.select(\"Year\", \"Month\", \"DayOfMonth\", \"CRSDepTime\", \"UniqueCarrier\", \"FlightNum\", \"DepDelay\", round(\"DepDelayPredicted\", 2).alias(\"DepDelayPredicted\"))\n",
    "display(displayDF)"
   ]
  },
  {
   "cell_type": "code",
   "execution_count": 20,
   "metadata": {},
   "outputs": [],
   "source": [
    "display(\n",
    "  resultDF\n",
    "    .groupBy(\"HourOfDay\")\n",
    "    .avg(\"DepDelay\", \"DepDelayPredicted\")\n",
    "    .toDF(\"HourOfDay\", \"Actual\", \"Predicted\")\n",
    "    .orderBy(\"HourOfDay\")\n",
    ")"
   ]
  },
  {
   "cell_type": "markdown",
   "metadata": {},
   "source": [
    "-sandbox\n",
    "<div>\n",
    "  <div>**Apache Spark is used to...**</div>\n",
    "  <div><h3 style=\"margin-top:0; margin-bottom:0.75em\">Process live streams of data</h3></div>\n",
    "</div>\n",
    "\n",
    "Besides aggregating static data sets, Spark can also process live streams of data such as:\n",
    "* File Streams\n",
    "* TCP-IP Streams\n",
    "* Apache Kafka\n",
    "* Custom Streams like Twitter & Facebook"
   ]
  },
  {
   "cell_type": "markdown",
   "metadata": {},
   "source": [
    "Before processing streaming data, a data source is required.\n",
    "\n",
    "The cell below first deletes any temp files, and then generates a stream of fake flight data for up to 30 minutes."
   ]
  },
  {
   "cell_type": "code",
   "execution_count": 23,
   "metadata": {},
   "outputs": [],
   "source": [
    "%scala\n",
    "\n",
    "// Clean any temp files from previous runs.\n",
    "DummyDataGenerator.clean()\n",
    "\n",
    "// Generate data for 5 minutes.\n",
    "// To force it to stop rerun with 0.\n",
    "DummyDataGenerator.start(5)"
   ]
  },
  {
   "cell_type": "markdown",
   "metadata": {},
   "source": [
    "The example below connects to and processes a fake, fire-hose of flight data by:\n",
    "0. Reading in a stream of constantly updating CSV files.\n",
    "0. Parsing the flight's date and time.\n",
    "0. Computing the average delay for each airline based on the most recent 15 seconds of flight data.\n",
    "0. Plotting the results in near-real-time.\n",
    "\n",
    "**Disclaimer:** The real-time data represented here is completely fictional and is not intended to reflect actual airline performance."
   ]
  },
  {
   "cell_type": "code",
   "execution_count": 25,
   "metadata": {},
   "outputs": [],
   "source": [
    "from pyspark.sql.functions import col, date_format, unix_timestamp, window\n",
    "from pyspark.sql.types import StructType\n",
    "\n",
    "spark.conf.set(\"spark.sql.shuffle.partitions\", \"8\")\n",
    "\n",
    "flightSchema = (StructType()\n",
    "  .add(\"FlightNumber\", \"integer\")\n",
    "  .add(\"DepartureTime\", \"string\")\n",
    "  .add(\"Delay\", \"double\")\n",
    "  .add(\"Airline\", \"string\")\n",
    ")\n",
    "streamingDF = (spark.readStream\n",
    "  .schema(flightSchema)\n",
    "  .csv(DummyDataGenerator.streamDirectory)\n",
    "  .withColumn(\"DepartureTime\", unix_timestamp(\"DepartureTime\", \"yyyy-MM-dd'T'HH:mm:ss\").cast(\"timestamp\"))\n",
    "  .withWatermark(\"DepartureTime\", \"5 minute\")\n",
    "  .groupBy( window(\"DepartureTime\", \"15 seconds\"), \"Airline\" )\n",
    "  .avg(\"Delay\")\n",
    "  .select(col(\"window.start\").alias(\"Start\"), \"Airline\", col(\"avg(delay)\").alias(\"Average Delay\"))\n",
    "  .orderBy(\"start\", \"Airline\")\n",
    "  .select(date_format(\"start\", \"HH:mm:ss\").alias(\"Time\"), \"Airline\", \"Average Delay\")\n",
    ")\n",
    "display(streamingDF)"
   ]
  },
  {
   "cell_type": "markdown",
   "metadata": {},
   "source": [
    "-sandbox\n",
    "<img alt=\"Caution\" title=\"Caution\" style=\"vertical-align: text-bottom; position: relative; height:1.3em; top:0.0em\" src=\"https://files.training.databricks.com/static/images/icon-warning.svg\"/> Remember to stop your stream by clicking the **Cancel** link up above."
   ]
  },
  {
   "cell_type": "markdown",
   "metadata": {},
   "source": [
    "-sandbox\n",
    "<div>\n",
    "  <div>**Apache Spark is used to...**</div>\n",
    "  <div><h3 style=\"margin-top:0; margin-bottom:0.75em\">Perform analysis on large graph data sets and social networks</h3></div>\n",
    "</div>\n",
    "\n",
    "The open source <a href=\"https://graphframes.github.io/\" target=\"_blank\">GraphFrames</a> library extends Spark to study not the data itself, but the network of relationships between entities.  This facilitates queries such as:\n",
    "* **Shortest Path:** What is the shortest route from Springfield, IL to Austin, TX?\n",
    "* **Page Rank:** Which airports are the most important hubs in the USA?\n",
    "* **Connected Components:** Find strongly connected groups of friends on Facebook.\n",
    "* (just to name a few)"
   ]
  },
  {
   "cell_type": "markdown",
   "metadata": {},
   "source": [
    "#### Connected Graphs\n",
    "\n",
    "The example below is a visualization of a network of airports connected by flight routes.\n",
    "\n",
    "Databricks can display this network using popular third-party visualization library such as:\n",
    "* <a href=\"https://d3js.org/\" target=\"_blank\">D3.js - Data-Driven Documents</a>\n",
    "* <a href=\"https://matplotlib.org/\" target=\"_blank\">Matplotlib: Python plotting</a>\n",
    "* <a href=\"http://ggplot.yhathq.com/\" target=\"_blank\">ggplot</a>\n",
    "* <a href=\"https://plot.ly/\" target=\"_blank\">Plotly<a/>"
   ]
  },
  {
   "cell_type": "markdown",
   "metadata": {},
   "source": [
    "-sandbox\n",
    "<iframe style='border-style:none; position:absolute; left:-150px; width:1170px; height:700px'\n",
    "          src='https://mbostock.github.io/d3/talk/20111116/#14'\n",
    "/>"
   ]
  },
  {
   "cell_type": "markdown",
   "metadata": {},
   "source": [
    "-sandbox\n",
    "#### PageRank algorithm\n",
    "The <a href=\"https://en.wikipedia.org/wiki/PageRank\" target=\"_blank\">PageRank</a> algorithm, named after Google co-founder Larry Page, assesses the importance of a hub in a network.\n",
    "\n",
    "The example below uses the <a href=\"https://graphframes.github.io/\" target=\"_blank\">GraphFrames</a> API  to compute the **PageRank** of each airport in the United States and shows the top 10 most important US airports.\n",
    "\n",
    "<img alt=\"Caution\" title=\"Caution\" style=\"vertical-align: text-bottom; position: relative; height:1.3em; top:0.0em\" src=\"https://files.training.databricks.com/static/images/icon-warning.svg\"/> This example requires the GraphFrames library that may not have been setup on your cluster.  Read the example below rather than running it."
   ]
  },
  {
   "cell_type": "code",
   "execution_count": 31,
   "metadata": {},
   "outputs": [],
   "source": [
    "from pyspark.sql.functions import col, concat_ws, round\n",
    "from graphframes import GraphFrame\n",
    "\n",
    "flightVerticesDF = (spark.read\n",
    "  .option(\"header\", True)\n",
    "  .option(\"delimiter\", \"\\t\")\n",
    "  .csv(\"dbfs:/mnt/training/asa/airport-codes/airport-codes.txt\")\n",
    "  .withColumnRenamed(\"IATA\", \"id\"))\n",
    "\n",
    "flightEdgesDF = (spark.table(\"Databricks.AirlineFlight\")\n",
    "  .withColumnRenamed(\"Origin\", \"src\")\n",
    "  .withColumnRenamed(\"Dest\", \"dst\"))\n",
    "\n",
    "flightGF = GraphFrame(flightVerticesDF, flightEdgesDF)\n",
    "pageRankDF = flightGF.pageRank(tol=0.05)\n",
    "\n",
    "resultsDF = (pageRankDF.vertices\n",
    "  .select(concat_ws(\", \", col(\"city\"), col(\"state\")).alias(\"Location\"),\n",
    "          round(col(\"pagerank\"), 1).alias(\"Rank\"))\n",
    "  .orderBy(col(\"pagerank\").desc()))\n",
    "\n",
    "display(resultsDF)"
   ]
  },
  {
   "cell_type": "markdown",
   "metadata": {},
   "source": [
    "## Review\n",
    "**Question:** Which of the following are good applications for Apache Spark? (Select all that apply.)\n",
    "0. Querying, exploring, and analyzing very large files and data sets\n",
    "0. Joining data lakes\n",
    "0. Machine learning and predictive analytics\n",
    "0. Processing streaming data\n",
    "0. Graph analytics\n",
    "0. Overnight batch processing of very large files\n",
    "0. Updating individual records in a database\n",
    "\n",
    "**Answer:** All but #7. Apache Spark uses SQL to read and performs analysis on large files, but it is not a Database."
   ]
  },
  {
   "cell_type": "markdown",
   "metadata": {},
   "source": [
    "## Additional Topics & Resources\n",
    "\n",
    "**Q:** What makes Spark different than Hadoop?\n",
    "**A:** Spark on Databricks performs 10-2000x faster than Hadoop Map-Reduce.  It does this by providing a high-level query API which allows Spark to highly optimize the internal execution without adding complexity for the user.  Internally, Spark employs a large number of optimizations such as pipelining related tasks together into a single operation, communicating in memory, using just-in-time code generation, query optimization, efficient tabular memory (Tungsten), caching, and more.\n",
    "\n",
    "**Q:** What are the visualization options in Databricks?\n",
    "**A:** Databricks provides a wide variety of <a href=\"https://docs.azuredatabricks.net/user-guide/visualizations/index.html\" target=\"_blank\">built-in visualizations</a>.  Databricks also supports a variety of 3rd party visualization libraries, including <a href=\"https://d3js.org/\" target=\"_blank\">d3.js</a>, <a href=\"https://matplotlib.org/\" target=\"_blank\">matplotlib</a>, <a href=\"http://ggplot.yhathq.com/\" target=\"_blank\">ggplot</a>, and <a href=\"https://plot.ly/\" target=\"_blank\">plotly<a/>.\n",
    "\n",
    "**Q:** Where can I learn more about DBFS?\n",
    "**A:** See the document <a href=\"https://docs.azuredatabricks.net/user-guide/dbfs-databricks-file-system.html#dbfs\" target=\"_blank\">Databricks File System - DBFS</a>.\n",
    "\n",
    "**Q:** Where can I find a list of the machine learning algorithms supported by Spark?\n",
    "**A:** The Spark documentation for Machine Learning describes the algorithms for classification, regression, clustering, recommendations (ALS), neural networks, and more.  The documentation doesn't provide a single consolidated list, but by browsing through the <a href=\"http://spark.apache.org/docs/latest/ml-guide.html\" target=\"_blank\">Spark MLLib documentation</a> you can find the supported algorithms.  Additionally, <a href=\"https://spark-packages.org/\" target=\"_blank\">3rd party libraries</a> provide even more algorithms and capabilities.\n",
    "\n",
    "**Q:** Where can I learn more about stream processing in Spark?\n",
    "**A:** See the <a href=\"https://spark.apache.org/docs/latest/structured-streaming-programming-guide.html\" target=\"_blank\">Structured Streaming Programming Guide</a>.\n",
    "\n",
    "**Q:** Where can I learn more about GraphFrames?\n",
    "**A:** See the <a href=\"http://graphframes.github.io/\" target=\"_blank\">GraphFrames Overview</a>.  The Databricks blog has an <a href=\"https://databricks.com/blog/2016/03/16/on-time-flight-performance-with-graphframes-for-apache-spark.html\">example</a> which uses d3 to perform visualizations of GraphFrame data."
   ]
  }
 ],
 "metadata": {
  "kernelspec": {
   "display_name": "Python 3",
   "language": "python",
   "name": "python3"
  },
  "language_info": {
   "codemirror_mode": {
    "name": "ipython",
    "version": 3
   },
   "file_extension": ".py",
   "mimetype": "text/x-python",
   "name": "python",
   "nbconvert_exporter": "python",
   "pygments_lexer": "ipython3",
   "version": "3.7.4"
  },
  "name": "02 Why Spark",
  "notebookId": 1744715051366347
 },
 "nbformat": 4,
 "nbformat_minor": 1
}
